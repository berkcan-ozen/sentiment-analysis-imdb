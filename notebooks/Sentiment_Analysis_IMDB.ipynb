{
 "cells": [
  {
   "cell_type": "markdown",
   "id": "42013aa4",
   "metadata": {},
   "source": [
    "# Sentiment Analysis on IMDb Movie Reviews 🎬\n",
    "\n",
    "This notebook contains the full workflow for IMDb review sentiment analysis, including:\n",
    "\n",
    "- Web scraping reviews and ratings\n",
    "- Data preprocessing (cleaning, stopwords, stemming)\n",
    "- Feature extraction (Bag-of-Words)\n",
    "- Model training (Naive Bayes classifiers)\n",
    "- Evaluation and predictions on new reviews\n"
   ]
  },
  {
   "cell_type": "code",
   "execution_count": null,
   "id": "4afa2ce1",
   "metadata": {},
   "outputs": [],
   "source": [
    "import requests"
   ]
  },
  {
   "cell_type": "code",
   "execution_count": null,
   "id": "bb4350a3",
   "metadata": {},
   "outputs": [],
   "source": [
    "import csv\n",
    "def get_reviews_and_ratings(url):\n",
    "headers = {\n",
    "'User-Agent': 'Mozilla/5.0 (Windows NT 10.0; Win64; x64) AppleWebKit/537.36 (KHTML, like Gecko) Chrome/58.0.3029.110 Safari/537.3'}\n",
    "response = requests.get(url, headers=headers)\n",
    "soup = BeautifulSoup(response.text, 'html.parser')\n",
    "reviews_with_ratings = []\n",
    "for review in soup.find_all('div', class_='lister-item-content'):\n",
    "rating = review.find('span', class_='rating-other-user-rating')"
   ]
  },
  {
   "cell_type": "code",
   "execution_count": null,
   "id": "ad3a01ba",
   "metadata": {},
   "outputs": [],
   "source": [
    "rating_value = float(rating.find('span').text.strip())\n",
    "if rating_value >= 6:\n",
    "sentiment = 'Positive'"
   ]
  },
  {
   "cell_type": "code",
   "execution_count": null,
   "id": "42db04bd",
   "metadata": {},
   "outputs": [],
   "source": [
    "sentiment = 'Negative'\n",
    "rating = str(rating_value)"
   ]
  },
  {
   "cell_type": "code",
   "execution_count": null,
   "id": "072a6da6",
   "metadata": {},
   "outputs": [],
   "source": [
    "rating = 'N/A'\n",
    "sentiment = 'N/A'\n",
    "text = review.find('div', class_='text show-more__control').text.strip()\n",
    "reviews_with_ratings.append((text, rating, sentiment))"
   ]
  },
  {
   "cell_type": "code",
   "execution_count": null,
   "id": "2bfb5314",
   "metadata": {},
   "outputs": [],
   "source": [
    "def save_reviews_to_csv(movie_urls, output_file):\n",
    "with open(output_file, 'w', newline='', encoding='utf-8') as csvfile:\n",
    "writer = csv.writer(csvfile)\n",
    "writer.writerow(['Review', 'Rating', 'Sentiment'])"
   ]
  },
  {
   "cell_type": "code",
   "execution_count": null,
   "id": "87175ed0",
   "metadata": {},
   "outputs": [],
   "source": [
    "reviews_with_ratings = get_reviews_and_ratings(url)"
   ]
  },
  {
   "cell_type": "code",
   "execution_count": null,
   "id": "8b6a0cc0",
   "metadata": {},
   "outputs": [],
   "source": [
    "writer.writerow([review, rating, sentiment])\n",
    "# Example list of movie URLs (replace with your own)\n",
    "movie_urls = [\n",
    "'https://m.imdb.com/title/tt0111161/reviews/?ref_=tt_ql_2',\n",
    "'https://m.imdb.com/title/tt0068646/reviews/?ref_=tt_ql_2',\n",
    "'https://m.imdb.com/title/tt0071562/reviews/?ref_=tt_ql_2',\n",
    "'https://m.imdb.com/title/tt0468569/reviews/?ref_=tt_ql_2',\n",
    "'https://m.imdb.com/title/tt0050083/reviews/?ref_=tt_ql_2',\n",
    "'https://m.imdb.com/title/tt0108052/reviews/?ref_=tt_ql_2',\n",
    "'https://m.imdb.com/title/tt0167260/reviews/?ref_=tt_ql_2',\n",
    "'https://m.imdb.com/title/tt0110912/reviews/?ref_=tt_ql_2',\n",
    "'https://m.imdb.com/title/tt0120737/reviews/?ref_=tt_ql_2',\n",
    "'https://m.imdb.com/title/tt0060196/reviews/?ref_=tt_ql_2',\n",
    "'https://m.imdb.com/title/tt0109830/reviews/?ref_=tt_ql_2',\n",
    "'https://m.imdb.com/title/tt0167261/reviews/?ref_=tt_ql_2',\n",
    "'https://m.imdb.com/title/tt0137523/reviews/?ref_=tt_ql_2',\n",
    "'https://m.imdb.com/title/tt1375666/reviews/?ref_=tt_ql_2',\n",
    "'https://m.imdb.com/title/tt0080684/reviews/?ref_=tt_ql_2',\n",
    "'https://m.imdb.com/title/tt0133093/reviews/?ref_=tt_ql_2',\n",
    "'https://m.imdb.com/title/tt0099685/reviews/?ref_=tt_ql_2',\n",
    "'https://m.imdb.com/title/tt0073486/reviews/?ref_=tt_ql_2',\n",
    "'https://m.imdb.com/title/tt15239678/reviews/?ref_=tt_ql_2',\n",
    "'https://m.imdb.com/title/tt0114369/reviews/?ref_=tt_ql_2',\n",
    "'https://m.imdb.com/title/tt0816692/reviews/?ref_=tt_ql_2',\n",
    "'https://m.imdb.com/title/tt0038650/reviews/?ref_=tt_ql_2',\n",
    "'https://m.imdb.com/title/tt0047478/reviews/?ref_=tt_ql_2',\n",
    "'https://m.imdb.com/title/tt0102926/reviews/?ref_=tt_ql_2',\n",
    "'https://m.imdb.com/title/tt0120815/reviews/?ref_=tt_ql_2',\n",
    "'https://m.imdb.com/title/tt0317248/reviews/?ref_=tt_ql_2',\n",
    "'https://m.imdb.com/title/tt0118799/reviews/?ref_=tt_ql_2',\n",
    "'https://m.imdb.com/title/tt0120689/reviews/?ref_=tt_ql_2',\n",
    "'https://m.imdb.com/title/tt0103064/reviews/?ref_=tt_ql_2',\n",
    "'https://m.imdb.com/title/tt0076759/reviews/?ref_=tt_ql_2',\n",
    "'https://m.imdb.com/title/tt0088763/reviews/?ref_=tt_ql_2',\n",
    "'https://m.imdb.com/title/tt0245429/reviews/?ref_=tt_ql_2',\n",
    "'https://m.imdb.com/title/tt0253474/reviews/?ref_=tt_ql_2',\n",
    "'https://m.imdb.com/title/tt6751668/reviews/?ref_=tt_ql_2',\n",
    "'https://m.imdb.com/title/tt0054215/reviews/?ref_=tt_ql_2',\n",
    "'https://m.imdb.com/title/tt9362722/reviews/?ref_=tt_ql_2',\n",
    "'https://m.imdb.com/title/tt0172495/reviews/?ref_=tt_ql_2',\n",
    "'https://m.imdb.com/title/tt0110357/reviews/?ref_=tt_ql_2',\n",
    "'https://m.imdb.com/title/tt0110413/reviews/?ref_=tt_ql_2',\n",
    "'https://m.imdb.com/title/tt0407887/reviews/?ref_=tt_ql_2',\n",
    "'https://m.imdb.com/title/tt0120586/reviews/?ref_=tt_ql_2',\n",
    "'https://m.imdb.com/title/tt2582802/reviews/?ref_=tt_ql_2',\n",
    "'https://m.imdb.com/title/tt0482571/reviews/?ref_=tt_ql_2',\n",
    "'https://m.imdb.com/title/tt0095327/reviews/?ref_=tt_ql_2',\n",
    "'https://m.imdb.com/title/tt0056058/reviews/?ref_=tt_ql_2',\n",
    "'https://m.imdb.com/title/tt0114814/reviews/?ref_=tt_ql_2',\n",
    "'https://m.imdb.com/title/tt0034583/reviews/?ref_=tt_ql_2',\n",
    "'https://m.imdb.com/title/tt1675434/reviews/?ref_=tt_ql_2',\n",
    "'https://m.imdb.com/title/tt0095765/reviews/?ref_=tt_ql_2',\n",
    "'https://m.imdb.com/title/tt0027977/reviews/?ref_=tt_ql_2',\n",
    "'https://m.imdb.com/title/tt0047396/reviews/?ref_=tt_ql_2',\n",
    "'https://m.imdb.com/title/tt0078748/reviews/?ref_=tt_ql_2',\n",
    "'https://m.imdb.com/title/tt0021749/reviews/?ref_=tt_ql_2',\n",
    "'https://m.imdb.com/title/tt1853728/reviews/?ref_=tt_ql_2',\n",
    "'https://m.imdb.com/title/tt0078788/reviews/?ref_=tt_ql_2',\n",
    "'https://m.imdb.com/title/tt0209144/reviews/?ref_=tt_ql_2',\n",
    "'https://m.imdb.com/title/tt23849204/reviews/?ref_=tt_ql_2',\n",
    "'https://m.imdb.com/title/tt0910970/reviews/?ref_=tt_ql_2',\n",
    "'https://m.imdb.com/title/tt0082971/reviews/?ref_=tt_ql_2',\n",
    "'https://m.imdb.com/title/tt0405094/reviews/?ref_=tt_ql_2',\n",
    "'https://m.imdb.com/title/tt0043014/reviews/?ref_=tt_ql_2',\n",
    "'https://m.imdb.com/title/tt0050825/reviews/?ref_=tt_ql_2',\n",
    "'https://m.imdb.com/title/tt4154756/reviews/?ref_=tt_ql_2',\n",
    "'https://m.imdb.com/title/tt4633694/reviews/?ref_=tt_ql_2',\n",
    "'https://m.imdb.com/title/tt0051201/reviews/?ref_=tt_ql_2',\n",
    "'https://m.imdb.com/title/tt0081505/reviews/?ref_=tt_ql_2',\n",
    "'https://m.imdb.com/title/tt0057012/reviews/?ref_=tt_ql_2',\n",
    "'https://m.imdb.com/title/tt0087843/reviews/?ref_=tt_ql_2',\n",
    "'https://m.imdb.com/title/tt1856101/reviews/?ref_=tt_ql_2',\n",
    "'https://m.imdb.com/title/tt0435761/reviews/?ref_=tt_ql_2',\n",
    "'https://m.imdb.com/title/tt4154796/reviews/?ref_=tt_ql_2',\n",
    "'https://m.imdb.com/title/tt1345836/reviews/?ref_=tt_ql_2',\n",
    "'https://m.imdb.com/title/tt0090605/reviews/?ref_=tt_ql_2',\n",
    "'https://m.imdb.com/title/tt0169547/reviews/?ref_=tt_ql_2',\n",
    "'https://m.imdb.com/title/tt7286456/reviews/?ref_=tt_ql_2',\n",
    "'https://m.imdb.com/title/tt0266543/reviews/?ref_=tt_ql_2',\n",
    "'https://m.imdb.com/title/tt0118715/reviews/?ref_=tt_ql_2',\n",
    "'https://m.imdb.com/title/tt4154664/reviews/?ref_=tt_ql_2',\n",
    "'https://m.imdb.com/title/tt0073195/reviews/?ref_=tt_ql_2',\n",
    "'https://m.imdb.com/title/tt0361748/reviews/?ref_=tt_ql_2',\n",
    "'https://m.imdb.com/title/tt0052618/reviews/?ref_=tt_ql_2',\n",
    "'https://m.imdb.com/title/tt0087845/reviews/?ref_=tt_ql_2',\n",
    "'https://m.imdb.com/title/tt0022100/reviews/?ref_=tt_ql_2',\n",
    "'https://m.imdb.com/title/tt1677720/reviews/?ref_=tt_ql_2',\n",
    "'https://m.imdb.com/title/tt0041959/reviews/?ref_=tt_ql_2',\n",
    "'https://m.imdb.com/title/tt0082096/reviews/?ref_=tt_ql_2',\n",
    "'https://m.imdb.com/title/tt0457430/reviews/?ref_=tt_ql_2',\n",
    "'https://m.imdb.com/title/tt0053198/reviews/?ref_=tt_ql_2',\n",
    "'https://m.imdb.com/title/tt0086879/reviews/?ref_=tt_ql_2',\n",
    "'https://m.imdb.com/title/tt0434409/reviews/?ref_=tt_ql_2',\n",
    "'https://m.imdb.com/title/tt0105236/reviews/?ref_=tt_ql_2',\n",
    "'https://m.imdb.com/title/tt0405159/reviews/?ref_=tt_ql_2',\n",
    "'https://m.imdb.com/title/tt0208092/reviews/?ref_=tt_ql_2',\n",
    "'https://m.imdb.com/title/tt0086190/reviews/?ref_=tt_ql_2',\n",
    "'https://m.imdb.com/title/tt0047296/reviews/?ref_=tt_ql_2',\n",
    "'https://m.imdb.com/title/tt0075686/reviews/?ref_=tt_ql_2',\n",
    "'https://m.imdb.com/title/tt0025316/reviews/?ref_=tt_ql_2',\n",
    "'https://m.imdb.com/title/tt0120735/reviews/?ref_=tt_ql_2',\n",
    "'https://m.imdb.com/title/tt0167404/reviews/?ref_=tt_ql_2',\n",
    "'https://m.imdb.com/title/tt0057013/reviews/?ref_=tt_ql_2',\n",
    "'https://m.imdb.com/title/tt0086879/reviews/?ref_=tt_ql_2',\n",
    "'https://m.imdb.com/title/tt0434409/reviews/?ref_=tt_ql_2',\n",
    "'https://m.imdb.com/title/tt0105236/reviews/?ref_=tt_ql_2',\n",
    "'https://m.imdb.com/title/tt0405159/reviews/?ref_=tt_ql_2',\n",
    "'https://m.imdb.com/title/tt0208092/reviews/?ref_=tt_ql_2',\n",
    "'https://m.imdb.com/title/tt0086190/reviews/?ref_=tt_ql_2',\n",
    "'https://m.imdb.com/title/tt0047296/reviews/?ref_=tt_ql_2',\n",
    "'https://m.imdb.com/title/tt0075686/reviews/?ref_=tt_ql_2',\n",
    "'https://m.imdb.com/title/tt0025316/reviews/?ref_=tt_ql_2',\n",
    "'https://m.imdb.com/title/tt0120735/reviews/?ref_=tt_ql_2',\n",
    "'https://m.imdb.com/title/tt0167404/reviews/?ref_=tt_ql_2',\n",
    "'https://m.imdb.com/title/tt0057013/reviews/?ref_=tt_ql_2'"
   ]
  },
  {
   "cell_type": "code",
   "execution_count": null,
   "id": "c81442f1",
   "metadata": {},
   "outputs": [],
   "source": [
    "# Output CSV file\n",
    "output_file = 'movie_reviews_with_sentiment.csv'\n",
    "# Call function to save reviews to CSV\n",
    "save_reviews_to_csv(movie_urls, output_file)\n",
    "print(\"Reviews downloaded and saved to\", output_file)\n",
    "#Removing 2nd column which is Rating\n",
    "import pandas as pd\n",
    "# Load the CSV file\n",
    "data = pd.read_csv(\"movie_reviews_with_sentiment.csv\")\n",
    "# Remove the second column (index 1) from the dataframe\n",
    "data = data.drop(data.columns[1], axis=1)\n",
    "# Save the modified dataframe back to a CSV file\n",
    "data.to_csv(\"movie_reviews_without_rating.csv\", index=False)\n",
    "# This Python 3 environment comes with many helpful analytics libraries installed\n",
    "# It is defined by the kaggle/python Docker image: https://github.com/kaggle/docker-python\n",
    "# For example, here's several helpful packages to load\n",
    "import numpy as np # linear algebra\n",
    "import pandas as pd # data processing, CSV file I/O (e.g. pd.read_csv)\n",
    "# Input data files are available in the read-only \"../input/\" directory\n",
    "# For example, running this (by clicking run or pressing Shift+Enter) will list all files under the input directory\n",
    "import os\n",
    "for dirname, _, filenames in os.walk('/kaggle/input'):"
   ]
  },
  {
   "cell_type": "code",
   "execution_count": null,
   "id": "185b55ec",
   "metadata": {},
   "outputs": [],
   "source": [
    "print(os.path.join(dirname, filename))\n",
    "# You can write up to 20GB to the current directory (/kaggle/working/) that gets preserved as output when you create a version using \"Save & Run All\"\n",
    "# You can also write temporary files to /kaggle/temp/, but they won't be saved outside of the current session\n",
    "# Load the dataset\n",
    "file_path = '/content/movie_reviews_without_rating.csv'  # Change the path to the location where you've uploaded the file\n",
    "df = pd.read_csv(file_path)\n",
    "#Showing top 5 Rows\n",
    "df.head()\n",
    "# Taking 10 Random Samples\n",
    "df.sample(10)\n",
    "# Review of 1st row"
   ]
  },
  {
   "cell_type": "code",
   "execution_count": null,
   "id": "d24d3bf8",
   "metadata": {},
   "outputs": [],
   "source": [
    "#Taking 1000 Samples\n",
    "df=df.sample(1000)"
   ]
  },
  {
   "cell_type": "code",
   "execution_count": null,
   "id": "1311b230",
   "metadata": {},
   "outputs": [],
   "source": [
    "#showing information"
   ]
  },
  {
   "cell_type": "code",
   "execution_count": null,
   "id": "254f42b1",
   "metadata": {},
   "outputs": [],
   "source": [
    "#Calculating null values\n",
    "df.isnull().sum()\n",
    "#Droping the rows with null values\n",
    "df.dropna(inplace=True)\n",
    "#Calculating null values\n",
    "df.isna().sum()\n",
    "#To clean all html tags\n",
    "import re\n",
    "clean=re.compile('<.*?>')\n",
    "re.sub(clean,'',df.iloc[2].Review)\n",
    "# Function\n",
    "def clean_html(text):\n",
    "clean=re.compile('<.?>')\n",
    "return re.sub(clean,'',text)\n",
    "#apply clean_html\n",
    "df['Review']=df['Review'].apply(clean_html)\n",
    "#convert everything to lowercase\n",
    "def convert_lower(text):\n",
    "return text.lower()\n",
    "#apply conver_lower\n",
    "df['Review']=df['Review'].apply(convert_lower)\n",
    "# function to remove special character(commas, full stop, open bracket etc.)\n",
    "def remove_special(text):\n",
    "x=''"
   ]
  },
  {
   "cell_type": "code",
   "execution_count": null,
   "id": "f6367bff",
   "metadata": {},
   "outputs": [],
   "source": [
    "if i.isalnum():\n",
    "x=x+i"
   ]
  },
  {
   "cell_type": "code",
   "execution_count": null,
   "id": "e035ed07",
   "metadata": {},
   "outputs": [],
   "source": [
    "x=x+' '"
   ]
  },
  {
   "cell_type": "code",
   "execution_count": null,
   "id": "28c1cfdb",
   "metadata": {},
   "outputs": [],
   "source": [
    "df['Review']=df['Review'].apply(remove_special)\n",
    "# remove stop words\n",
    "import nltk"
   ]
  },
  {
   "cell_type": "code",
   "execution_count": null,
   "id": "9e169c0c",
   "metadata": {},
   "outputs": [],
   "source": [
    "import nltk\n",
    "nltk.download('stopwords')\n",
    "import nltk\n",
    "nltk.download('stopwords')\n",
    "stopwords.words('english')\n",
    "#function to remove stop words\n",
    "def remove_stopwords(text):\n",
    "x=[]\n",
    "for i in text.split():\n",
    "if i not in stopwords.words('english'):\n",
    "x.append(i)\n",
    "y=x[:]\n",
    "x.clear()"
   ]
  },
  {
   "cell_type": "code",
   "execution_count": null,
   "id": "5896f122",
   "metadata": {},
   "outputs": [],
   "source": [
    "df['Review']=df['Review'].apply(remove_stopwords)"
   ]
  },
  {
   "cell_type": "code",
   "execution_count": null,
   "id": "7ac593c8",
   "metadata": {},
   "outputs": [],
   "source": [
    "#performing stemming(multiple word with same meaning to single word)"
   ]
  },
  {
   "cell_type": "code",
   "execution_count": null,
   "id": "10a37e4d",
   "metadata": {},
   "outputs": [],
   "source": [
    "ps=PorterStemmer()\n",
    "y=[]\n",
    "def stem_words(text):"
   ]
  },
  {
   "cell_type": "code",
   "execution_count": null,
   "id": "4b3a598d",
   "metadata": {},
   "outputs": [],
   "source": [
    "y.append(ps.stem(i))\n",
    "z=y[:]\n",
    "y.clear()"
   ]
  },
  {
   "cell_type": "code",
   "execution_count": null,
   "id": "86288f15",
   "metadata": {},
   "outputs": [],
   "source": [
    "stem_words(['I','loved','loving','it'])\n",
    "df['Review']=df['Review'].apply(stem_words)"
   ]
  },
  {
   "cell_type": "code",
   "execution_count": null,
   "id": "b208f784",
   "metadata": {},
   "outputs": [],
   "source": [
    "#join back\n",
    "def join_back(list_input):\n",
    "return \" \".join(list_input)\n",
    "df['Review']=df['Review'].apply(join_back)\n",
    "# taking review column\n",
    "X=df.iloc[:,0:1].values"
   ]
  },
  {
   "cell_type": "code",
   "execution_count": null,
   "id": "14f3f493",
   "metadata": {},
   "outputs": [],
   "source": [
    "cv=CountVectorizer(max_features=1000)\n",
    "X=cv.fit_transform(df['Review']).toarray()"
   ]
  },
  {
   "cell_type": "code",
   "execution_count": null,
   "id": "8fb72a00",
   "metadata": {},
   "outputs": [],
   "source": [
    "# taking 2nd column()\n",
    "y=df.iloc[:,-1].values"
   ]
  },
  {
   "cell_type": "code",
   "execution_count": null,
   "id": "526817b5",
   "metadata": {},
   "outputs": [],
   "source": [
    "#X,y\n",
    "#train set\n",
    "#test set"
   ]
  },
  {
   "cell_type": "code",
   "execution_count": null,
   "id": "1860eea6",
   "metadata": {},
   "outputs": [],
   "source": [
    "X_train,X_test,y_train,y_test=train_test_split(X,y,test_size=0.2)"
   ]
  },
  {
   "cell_type": "code",
   "execution_count": null,
   "id": "dfc9333a",
   "metadata": {},
   "outputs": [],
   "source": [
    "#object creation\n",
    "clf1=GaussianNB()\n",
    "clf2=MultinomialNB()\n",
    "clf3=BernoulliNB()\n",
    "#model train\n",
    "clf1.fit(X_train,y_train)\n",
    "clf2.fit(X_train,y_train)\n",
    "clf3.fit(X_train,y_train)\n",
    "#predict\n",
    "y_pred1=clf1.predict(X_test)\n",
    "y_pred2=clf2.predict(X_test)\n",
    "y_pred3=clf3.predict(X_test)"
   ]
  },
  {
   "cell_type": "code",
   "execution_count": null,
   "id": "785920e6",
   "metadata": {},
   "outputs": [],
   "source": [
    "print(\"Gaussian NB acc=\",accuracy_score(y_test,y_pred1))\n",
    "print(\"Multinomial NB acc=\",accuracy_score(y_test,y_pred2))\n",
    "print(\"Bernoulli NB acc=\",accuracy_score(y_test,y_pred3))\n",
    "import nltk\n",
    "nltk.download('punkt')\n",
    "import re\n",
    "import nltk"
   ]
  },
  {
   "cell_type": "code",
   "execution_count": null,
   "id": "17b7abce",
   "metadata": {},
   "outputs": [],
   "source": [
    "# Function to preprocess the text of reviews\n",
    "def preprocess_text(text):\n",
    "# Remove HTML tags\n",
    "clean = re.compile('<.*?>')\n",
    "text = re.sub(clean, '', text)\n",
    "# Remove non-alphanumeric characters and convert to lowercase\n",
    "text = re.sub(r'[^a-zA-Z0-9]', ' ', text.lower())\n",
    "# Tokenize the text\n",
    "tokens = nltk.word_tokenize(text)\n",
    "# Remove stopwords\n",
    "stop_words = set(stopwords.words('english'))\n",
    "filtered_tokens = [word for word in tokens if word not in stop_words]\n",
    "# Join the tokens back into a string\n",
    "processed_text = ' '.join(filtered_tokens)"
   ]
  },
  {
   "cell_type": "code",
   "execution_count": null,
   "id": "8df63773",
   "metadata": {},
   "outputs": [],
   "source": [
    "# Function to train the model\n",
    "def train_model(X_train, y_train):\n",
    "vectorizer = CountVectorizer()\n",
    "X_train_counts = vectorizer.fit_transform(X_train)\n",
    "clf = MultinomialNB()\n",
    "clf.fit(X_train_counts, y_train)"
   ]
  },
  {
   "cell_type": "code",
   "execution_count": null,
   "id": "36d6373f",
   "metadata": {},
   "outputs": [],
   "source": [
    "# Function to predict sentiment for new reviews\n",
    "def predict_sentiment(new_reviews, clf, vectorizer):\n",
    "# Preprocess the new reviews\n",
    "preprocessed_reviews = [preprocess_text(review) for review in new_reviews]\n",
    "# Vectorize the preprocessed reviews using the same vectorizer used for training\n",
    "X_new_counts = vectorizer.transform(preprocessed_reviews)\n",
    "# Make predictions using the trained model\n",
    "predicted_sentiments = clf.predict(X_new_counts)"
   ]
  },
  {
   "cell_type": "code",
   "execution_count": null,
   "id": "4f36a9b7",
   "metadata": {},
   "outputs": [],
   "source": [
    "# Sample training data (replace with your own data)\n",
    "X_train = ["
   ]
  },
  {
   "cell_type": "code",
   "execution_count": null,
   "id": "cf1bd54f",
   "metadata": {},
   "outputs": [],
   "source": [
    "# Add more training data here"
   ]
  },
  {
   "cell_type": "code",
   "execution_count": null,
   "id": "79109b50",
   "metadata": {},
   "outputs": [],
   "source": [
    "y_train = [1, 0, 1]  # 1 for positive sentiment, 0 for negative sentiment\n",
    "# Train the model\n",
    "clf, vectorizer = train_model(X_train, y_train)\n",
    "# Sample new reviews (replace with your own new reviews)\n",
    "new_reviews = ["
   ]
  },
  {
   "cell_type": "code",
   "execution_count": null,
   "id": "c01a27cc",
   "metadata": {},
   "outputs": [],
   "source": [
    "# Make predictions for the new reviews\n",
    "predicted_sentiments = predict_sentiment(new_reviews, clf, vectorizer)\n",
    "# Print the predicted sentiments for the new reviews\n",
    "for review, sentiment in zip(new_reviews, predicted_sentiments):\n",
    "print(f\"Review: {review}\")\n",
    "print(f\"Predicted Sentiment: {'Positive' if sentiment == 1 else 'Negative'}\")\n",
    "print()"
   ]
  }
 ],
 "metadata": {},
 "nbformat": 4,
 "nbformat_minor": 5
}
